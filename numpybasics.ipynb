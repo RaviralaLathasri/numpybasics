{
  "nbformat": 4,
  "nbformat_minor": 0,
  "metadata": {
    "colab": {
      "provenance": [],
      "authorship_tag": "ABX9TyNVBqjFsfQ1NYBjRWe00QIr",
      "include_colab_link": true
    },
    "kernelspec": {
      "name": "python3",
      "display_name": "Python 3"
    },
    "language_info": {
      "name": "python"
    }
  },
  "cells": [
    {
      "cell_type": "markdown",
      "metadata": {
        "id": "view-in-github",
        "colab_type": "text"
      },
      "source": [
        "<a href=\"https://colab.research.google.com/github/RaviralaLathasri/numpybasics/blob/main/numpybasics.ipynb\" target=\"_parent\"><img src=\"https://colab.research.google.com/assets/colab-badge.svg\" alt=\"Open In Colab\"/></a>"
      ]
    },
    {
      "cell_type": "code",
      "source": [
        "import numpy as np\n",
        "l1=[1,2,3]\n",
        "array1=np.array(l1)\n",
        "array1"
      ],
      "metadata": {
        "colab": {
          "base_uri": "https://localhost:8080/"
        },
        "id": "RRcFQZVU9NaR",
        "outputId": "366df354-104b-4691-9ede-33a75a68df95"
      },
      "execution_count": 1,
      "outputs": [
        {
          "output_type": "execute_result",
          "data": {
            "text/plain": [
              "array([1, 2, 3])"
            ]
          },
          "metadata": {},
          "execution_count": 1
        }
      ]
    },
    {
      "cell_type": "code",
      "source": [
        "a=np.array([1,2,3,7])\n",
        "for x in a:\n",
        "  print(x)"
      ],
      "metadata": {
        "colab": {
          "base_uri": "https://localhost:8080/"
        },
        "id": "9lQA1bnz9ev5",
        "outputId": "08fc79f1-7381-413b-9f80-594e36e10b1c"
      },
      "execution_count": 2,
      "outputs": [
        {
          "output_type": "stream",
          "name": "stdout",
          "text": [
            "1\n",
            "2\n",
            "3\n",
            "7\n"
          ]
        }
      ]
    },
    {
      "cell_type": "code",
      "source": [
        "#creates a NumPy array with a minimum of 5 dimensions.\n",
        "a=np.array([1,2,3,4,5,6],ndmin=5)\n",
        "a"
      ],
      "metadata": {
        "colab": {
          "base_uri": "https://localhost:8080/"
        },
        "id": "kVVGw0On967D",
        "outputId": "0bf63653-b5a8-4403-d2bb-4b4e08e43e5f"
      },
      "execution_count": 3,
      "outputs": [
        {
          "output_type": "execute_result",
          "data": {
            "text/plain": [
              "array([[[[[1, 2, 3, 4, 5, 6]]]]])"
            ]
          },
          "metadata": {},
          "execution_count": 3
        }
      ]
    },
    {
      "cell_type": "code",
      "source": [
        "#concatenate the two arrays\n",
        "a1=np.array([1,2,3,4])\n",
        "a2=np.array([53,67,99])\n",
        "a3=np.concatenate((a1,a2))\n",
        "print(a3)"
      ],
      "metadata": {
        "colab": {
          "base_uri": "https://localhost:8080/"
        },
        "id": "mYkGiqTo-eIp",
        "outputId": "537b9797-d93c-46a3-e754-ebbdb6940fa5"
      },
      "execution_count": 4,
      "outputs": [
        {
          "output_type": "stream",
          "name": "stdout",
          "text": [
            "[ 1  2  3  4 53 67 99]\n"
          ]
        }
      ]
    },
    {
      "cell_type": "code",
      "source": [
        "#concatenate in 2d\n",
        "a1=np.array([[1,2,3,4],[21,22,23,24]])\n",
        "a2=np.array([[53,67,9,9],[45,46,47,48]])\n",
        "a3=np.concatenate((a1,a2),axis=1)\n",
        "print(a3)\n"
      ],
      "metadata": {
        "colab": {
          "base_uri": "https://localhost:8080/"
        },
        "id": "7WGKxpwtB9Bx",
        "outputId": "0d9ea6df-b6ec-4a96-d2e0-74824fab0c3c"
      },
      "execution_count": 5,
      "outputs": [
        {
          "output_type": "stream",
          "name": "stdout",
          "text": [
            "[[ 1  2  3  4 53 67  9  9]\n",
            " [21 22 23 24 45 46 47 48]]\n"
          ]
        }
      ]
    },
    {
      "cell_type": "code",
      "source": [
        "#split\n",
        "a1=np.array([[1,2,3,4],[21,22,23,24]])\n",
        "array=np.array_split(a1,1)\n",
        "print(array)"
      ],
      "metadata": {
        "colab": {
          "base_uri": "https://localhost:8080/"
        },
        "id": "AnrTcZpzEXkS",
        "outputId": "870d5612-2f56-4a40-d420-125b4a2d172a"
      },
      "execution_count": 6,
      "outputs": [
        {
          "output_type": "stream",
          "name": "stdout",
          "text": [
            "[array([[ 1,  2,  3,  4],\n",
            "       [21, 22, 23, 24]])]\n"
          ]
        }
      ]
    },
    {
      "cell_type": "code",
      "source": [
        "#searching\n",
        "a1=np.array([[1,2,3,4],[21,22,23,4]])\n",
        "x=np.where(a1==4)\n",
        "print(x)"
      ],
      "metadata": {
        "colab": {
          "base_uri": "https://localhost:8080/"
        },
        "id": "hN7VygI1FofB",
        "outputId": "04cf4940-41ea-48b2-9717-84fc7e4adba7"
      },
      "execution_count": 7,
      "outputs": [
        {
          "output_type": "stream",
          "name": "stdout",
          "text": [
            "(array([0, 1]), array([3, 3]))\n"
          ]
        }
      ]
    },
    {
      "cell_type": "code",
      "source": [
        "#sorting\n",
        "a=np.array([[1,3,5,6],[8,9,2,5]])\n",
        "x=np.sort(a)\n",
        "x"
      ],
      "metadata": {
        "colab": {
          "base_uri": "https://localhost:8080/"
        },
        "id": "FBdCFub7I6t1",
        "outputId": "4753e01c-49a1-40b0-f60b-b04d818f295a"
      },
      "execution_count": 8,
      "outputs": [
        {
          "output_type": "execute_result",
          "data": {
            "text/plain": [
              "array([[1, 3, 5, 6],\n",
              "       [2, 5, 8, 9]])"
            ]
          },
          "metadata": {},
          "execution_count": 8
        }
      ]
    },
    {
      "cell_type": "code",
      "source": [
        "#sorting of alphabets\n",
        "a=np.array([['raja','latha','sruthi'],['manasa','rosh','sanju']])\n",
        "x=np.sort(a)\n",
        "x"
      ],
      "metadata": {
        "colab": {
          "base_uri": "https://localhost:8080/"
        },
        "id": "r-OAJTcQJvtq",
        "outputId": "3a0e45a9-06ed-47d5-faca-4b35e3a24a3f"
      },
      "execution_count": 9,
      "outputs": [
        {
          "output_type": "execute_result",
          "data": {
            "text/plain": [
              "array([['latha', 'raja', 'sruthi'],\n",
              "       ['manasa', 'rosh', 'sanju']], dtype='<U6')"
            ]
          },
          "metadata": {},
          "execution_count": 9
        }
      ]
    },
    {
      "cell_type": "code",
      "source": [
        "#ndemurate in 1D\n",
        "a=np.array([11,32,35,4])\n",
        "for idx,x in np.ndenumerate(a):\n",
        "  print(idx,x)"
      ],
      "metadata": {
        "colab": {
          "base_uri": "https://localhost:8080/"
        },
        "id": "8I2N0Ef9LGUC",
        "outputId": "e7a699ce-b71c-46a7-a1c3-3bd20985f57f"
      },
      "execution_count": 10,
      "outputs": [
        {
          "output_type": "stream",
          "name": "stdout",
          "text": [
            "(0,) 11\n",
            "(1,) 32\n",
            "(2,) 35\n",
            "(3,) 4\n"
          ]
        }
      ]
    },
    {
      "cell_type": "code",
      "source": [
        "#ndemurate in 2D\n",
        "a=np.array([[21,23,35],[445,46,43]])\n",
        "for idx,x in np.ndenumerate(a):\n",
        "  print(idx,x)"
      ],
      "metadata": {
        "colab": {
          "base_uri": "https://localhost:8080/"
        },
        "id": "NPmZrHNGL5WJ",
        "outputId": "a65f8ab5-74e7-4038-9c12-bab7c40dd11d"
      },
      "execution_count": 11,
      "outputs": [
        {
          "output_type": "stream",
          "name": "stdout",
          "text": [
            "(0, 0) 21\n",
            "(0, 1) 23\n",
            "(0, 2) 35\n",
            "(1, 0) 445\n",
            "(1, 1) 46\n",
            "(1, 2) 43\n"
          ]
        }
      ]
    },
    {
      "cell_type": "code",
      "source": [
        "#filters\n",
        "a=np.array([4,6,8,34])\n",
        "x=[True,False,False,True]\n",
        "newarr=a[x]\n",
        "newarr"
      ],
      "metadata": {
        "colab": {
          "base_uri": "https://localhost:8080/"
        },
        "id": "SuQ6ol6TMwrC",
        "outputId": "7ce85a89-6a9a-43a3-cb98-c1cbc83d2283"
      },
      "execution_count": 12,
      "outputs": [
        {
          "output_type": "execute_result",
          "data": {
            "text/plain": [
              "array([ 4, 34])"
            ]
          },
          "metadata": {},
          "execution_count": 12
        }
      ]
    },
    {
      "cell_type": "code",
      "source": [
        "array1=np.array([1,2,3])\n",
        "array1"
      ],
      "metadata": {
        "colab": {
          "base_uri": "https://localhost:8080/"
        },
        "id": "rG6YtFBe6062",
        "outputId": "7919ff91-18fb-423a-f8e1-8ee19de838c8"
      },
      "execution_count": 13,
      "outputs": [
        {
          "output_type": "execute_result",
          "data": {
            "text/plain": [
              "array([1, 2, 3])"
            ]
          },
          "metadata": {},
          "execution_count": 13
        }
      ]
    },
    {
      "cell_type": "code",
      "source": [
        "#boolean\n",
        "array1=np.array([0,1,2,3])\n",
        "array2=array1.astype(bool)\n",
        "array2"
      ],
      "metadata": {
        "colab": {
          "base_uri": "https://localhost:8080/"
        },
        "id": "mwIT3S7H9w6V",
        "outputId": "623430a4-bcf9-4263-a389-e4b98df55bd6"
      },
      "execution_count": 14,
      "outputs": [
        {
          "output_type": "execute_result",
          "data": {
            "text/plain": [
              "array([False,  True,  True,  True])"
            ]
          },
          "metadata": {},
          "execution_count": 14
        }
      ]
    },
    {
      "cell_type": "code",
      "source": [
        " #finding the indices of even numbers in a NumPy array.\n",
        "a1=np.array([1,2,3,4])\n",
        "a2=np.where(a1%2==0)\n",
        "print(\"even\",a2)\n"
      ],
      "metadata": {
        "colab": {
          "base_uri": "https://localhost:8080/"
        },
        "id": "4Yevkv1yAkim",
        "outputId": "2e5f7c97-bb07-4c58-987e-272d6b59dad3"
      },
      "execution_count": 15,
      "outputs": [
        {
          "output_type": "stream",
          "name": "stdout",
          "text": [
            "even (array([1, 3]),)\n"
          ]
        }
      ]
    },
    {
      "cell_type": "code",
      "source": [
        "#view(new addresses allocated)\n",
        "a1=np.array([1,2,3,4])\n",
        "a2=a1.view()\n",
        "a2[3]=5\n",
        "print(a2)"
      ],
      "metadata": {
        "colab": {
          "base_uri": "https://localhost:8080/"
        },
        "id": "1MlBvFjJCq-E",
        "outputId": "6b930a95-9aec-4ca9-a979-784d8d761f49"
      },
      "execution_count": 16,
      "outputs": [
        {
          "output_type": "stream",
          "name": "stdout",
          "text": [
            "[1 2 3 5]\n"
          ]
        }
      ]
    },
    {
      "cell_type": "code",
      "source": [
        "#copy(original not effects)\n",
        "a1=np.array([1,2,3,4])\n",
        "a2=a1.copy()\n",
        "a2[3]=5\n",
        "print(a2)\n"
      ],
      "metadata": {
        "colab": {
          "base_uri": "https://localhost:8080/"
        },
        "id": "t7t2S1WeHJ0u",
        "outputId": "020253ef-9077-46d6-c844-defd600d6957"
      },
      "execution_count": 17,
      "outputs": [
        {
          "output_type": "stream",
          "name": "stdout",
          "text": [
            "[1 2 3 5]\n"
          ]
        }
      ]
    },
    {
      "cell_type": "code",
      "source": [
        "#filtering elements from a NumPy array that fall within a specified range (between lb and ub inclusively).\n",
        "\n",
        "a1 = np.array([1, 2, 3, 4])  # Create a NumPy array\n",
        "lb = 3  # Lower bound\n",
        "ub = 5  # Upper bound\n",
        "\n",
        "a2 = a1[(a1 >= lb) & (a1 <= ub)]  # Filter values within range [3,5]\n",
        "print(a2)\n"
      ],
      "metadata": {
        "colab": {
          "base_uri": "https://localhost:8080/"
        },
        "id": "EOQRo14sIHev",
        "outputId": "02bc11ec-858b-4f81-f741-1cdd39eea8e4"
      },
      "execution_count": 18,
      "outputs": [
        {
          "output_type": "stream",
          "name": "stdout",
          "text": [
            "[3 4]\n"
          ]
        }
      ]
    },
    {
      "cell_type": "code",
      "source": [
        "a1=np.array([1,2,3,4,9,6])\n",
        "for x in a1[1:5]:\n",
        "  print(x)"
      ],
      "metadata": {
        "id": "gaOCDVZCMH6W",
        "colab": {
          "base_uri": "https://localhost:8080/"
        },
        "outputId": "94720e65-2c3e-4ef5-a7c4-a3563ba39b12"
      },
      "execution_count": 19,
      "outputs": [
        {
          "output_type": "stream",
          "name": "stdout",
          "text": [
            "2\n",
            "3\n",
            "4\n",
            "9\n"
          ]
        }
      ]
    },
    {
      "cell_type": "code",
      "source": [
        "#union\n",
        "a1=np.array([1,2,3,4])\n",
        "a2=np.array([1,23,32,14])\n",
        "a3=np.union1d(a1,a2)\n",
        "print(a3)"
      ],
      "metadata": {
        "id": "HpLLm1rwM2X2",
        "colab": {
          "base_uri": "https://localhost:8080/"
        },
        "outputId": "5587fe91-1a71-415d-cd81-f274f05b0e36"
      },
      "execution_count": 20,
      "outputs": [
        {
          "output_type": "stream",
          "name": "stdout",
          "text": [
            "[ 1  2  3  4 14 23 32]\n"
          ]
        }
      ]
    },
    {
      "cell_type": "code",
      "source": [
        "#shape,represents the dimensions (rows,columns)\n",
        "a1=np.array([[1,2,3,4,],[5,6,7,8]])  #here it has 2 rows and 4 columns\n",
        "b=a1.shape\n",
        "b\n",
        "\n",
        "\n"
      ],
      "metadata": {
        "id": "74zbgu-pKGwP",
        "colab": {
          "base_uri": "https://localhost:8080/"
        },
        "outputId": "cd152907-fd96-4275-f01b-9a5415cab56b"
      },
      "execution_count": 21,
      "outputs": [
        {
          "output_type": "execute_result",
          "data": {
            "text/plain": [
              "(2, 4)"
            ]
          },
          "metadata": {},
          "execution_count": 21
        }
      ]
    },
    {
      "cell_type": "code",
      "source": [
        "#reshape,it changes the shape\n",
        "a2=np.array([[1,2,3,4,],[5,6,7,8]])\n",
        "a2.reshape(4,2)  #here it changes the dimensions from (2,4) to (4,2)\n",
        "a2\n"
      ],
      "metadata": {
        "id": "jN1VOcXANUZ-",
        "colab": {
          "base_uri": "https://localhost:8080/"
        },
        "outputId": "1e15b845-aa56-493c-ef59-e284a67a567d"
      },
      "execution_count": 22,
      "outputs": [
        {
          "output_type": "execute_result",
          "data": {
            "text/plain": [
              "array([[1, 2, 3, 4],\n",
              "       [5, 6, 7, 8]])"
            ]
          },
          "metadata": {},
          "execution_count": 22
        }
      ]
    },
    {
      "cell_type": "code",
      "source": [
        "#intersection\n",
        "a1=np.array([1,2,21,4])\n",
        "a2=np.array([1,21,32,14])\n",
        "a3=np.intersect1d(a1,a2)\n",
        "print(a3)"
      ],
      "metadata": {
        "id": "XG2_0NgFOZpe",
        "colab": {
          "base_uri": "https://localhost:8080/"
        },
        "outputId": "503e8da8-e918-4b01-e988-11ede3668456"
      },
      "execution_count": 23,
      "outputs": [
        {
          "output_type": "stream",
          "name": "stdout",
          "text": [
            "[ 1 21]\n"
          ]
        }
      ]
    },
    {
      "cell_type": "code",
      "source": [
        "#positions of the intersection\n",
        "a1=np.array([1,2,21,4])\n",
        "a2=np.array([1,21,32,14])\n",
        "a3=np.intersect1d(a1,a2)\n",
        "print(a3)\n",
        "position=np.where(a3==a3)\n",
        "print(position)"
      ],
      "metadata": {
        "id": "UMxt0kbGRAp_",
        "colab": {
          "base_uri": "https://localhost:8080/"
        },
        "outputId": "01f8e46e-641f-4188-eb6c-4f1f05cc6e58"
      },
      "execution_count": 24,
      "outputs": [
        {
          "output_type": "stream",
          "name": "stdout",
          "text": [
            "[ 1 21]\n",
            "(array([0, 1]),)\n"
          ]
        }
      ]
    },
    {
      "cell_type": "code",
      "source": [
        "#converting the array into 1d\n",
        "a=np.array([[1,2,3],[4,5,6],[7,8,9]])\n",
        "print(np.reshape(a,(1,-1,)))\n",
        "#another method\n",
        "print(np.ravel(a))"
      ],
      "metadata": {
        "id": "CQs1ek2iAnPE",
        "colab": {
          "base_uri": "https://localhost:8080/"
        },
        "outputId": "1a7181fa-ec16-41af-9d63-a6ab1af59860"
      },
      "execution_count": 25,
      "outputs": [
        {
          "output_type": "stream",
          "name": "stdout",
          "text": [
            "[[1 2 3 4 5 6 7 8 9]]\n",
            "[1 2 3 4 5 6 7 8 9]\n"
          ]
        }
      ]
    },
    {
      "cell_type": "code",
      "source": [
        "#swaping 2 colums in 2d\n",
        "a=np.array([[1,2,3],[4,5,6]])\n",
        "print(a)\n",
        "a[:,[0,1]]=a[:,[1,0]]\n",
        "print(a)"
      ],
      "metadata": {
        "id": "4bd2iKRJFC_U",
        "colab": {
          "base_uri": "https://localhost:8080/"
        },
        "outputId": "6f8189f9-f81e-4c0e-ffc6-888b43a5951d"
      },
      "execution_count": 26,
      "outputs": [
        {
          "output_type": "stream",
          "name": "stdout",
          "text": [
            "[[1 2 3]\n",
            " [4 5 6]]\n",
            "[[2 1 3]\n",
            " [5 4 6]]\n"
          ]
        }
      ]
    },
    {
      "cell_type": "code",
      "source": [
        "#finding the mean,median,sd of array\n",
        "a=np.array([1,2,3,34,76,81,2])\n",
        "print(\"mean of array is:\",np.mean(a))\n",
        "print(\"median of array:\",np.median(a))\n",
        "print(\"sd of array:\",np.std(a))\n"
      ],
      "metadata": {
        "id": "gbe47C5oHi9u",
        "colab": {
          "base_uri": "https://localhost:8080/"
        },
        "outputId": "ae3456c1-6392-4ca8-b9fc-0bf534735521"
      },
      "execution_count": 27,
      "outputs": [
        {
          "output_type": "stream",
          "name": "stdout",
          "text": [
            "mean of array is: 28.428571428571427\n",
            "median of array: 3.0\n",
            "sd of array: 33.49565917657793\n"
          ]
        }
      ]
    },
    {
      "cell_type": "code",
      "source": [
        "#percentile of array\n",
        "a=np.array([12,45,123])\n",
        "print(np.percentile(a,75))"
      ],
      "metadata": {
        "id": "i5RjDdugIyvF",
        "colab": {
          "base_uri": "https://localhost:8080/"
        },
        "outputId": "123e4942-caf1-4941-d60e-83e989be216d"
      },
      "execution_count": 28,
      "outputs": [
        {
          "output_type": "stream",
          "name": "stdout",
          "text": [
            "84.0\n"
          ]
        }
      ]
    },
    {
      "cell_type": "code",
      "source": [
        "#to find the distance b/w array\n",
        "a=np.array([1,2,3,44])\n",
        "b=np.array([2,6,77,65])\n",
        "print(np.linalg.norm(a-b ))"
      ],
      "metadata": {
        "id": "zsEdaeMDKpJG",
        "colab": {
          "base_uri": "https://localhost:8080/"
        },
        "outputId": "d89eb478-9aa2-4316-99cc-55eef4b5479f"
      },
      "execution_count": 29,
      "outputs": [
        {
          "output_type": "stream",
          "name": "stdout",
          "text": [
            "77.03246069028303\n"
          ]
        }
      ]
    },
    {
      "cell_type": "code",
      "source": [
        "a=np.array([1,2,3,4],dtype=bool)\n",
        "print(a)\n"
      ],
      "metadata": {
        "id": "uijmnLBPUOtH",
        "colab": {
          "base_uri": "https://localhost:8080/"
        },
        "outputId": "6fdb51e4-a0b9-4c63-ec33-fc39b9c06beb"
      },
      "execution_count": 30,
      "outputs": [
        {
          "output_type": "stream",
          "name": "stdout",
          "text": [
            "[ True  True  True  True]\n"
          ]
        }
      ]
    },
    {
      "cell_type": "code",
      "source": [
        "#place -1 in place of odd numbers\n",
        "a=np.array([1,2,3,4])\n",
        "a[a%2==1]=-1\n",
        "print(a)\n"
      ],
      "metadata": {
        "id": "iaODsoWHwsrE",
        "colab": {
          "base_uri": "https://localhost:8080/"
        },
        "outputId": "b635e9c1-0704-4813-8a4c-0bf6baac1b80"
      },
      "execution_count": 31,
      "outputs": [
        {
          "output_type": "stream",
          "name": "stdout",
          "text": [
            "[-1  2 -1  4]\n"
          ]
        }
      ]
    },
    {
      "cell_type": "code",
      "source": [
        "#place 1 in place of even numbers\n",
        "a=np.array([1,2,3,4])\n",
        "a[a%2==0]=1\n",
        "print(a)"
      ],
      "metadata": {
        "id": "Hh96o3O7xmQr",
        "colab": {
          "base_uri": "https://localhost:8080/"
        },
        "outputId": "b12e6645-10dd-47d8-af6d-c9cfbe961443"
      },
      "execution_count": 32,
      "outputs": [
        {
          "output_type": "stream",
          "name": "stdout",
          "text": [
            "[1 1 3 1]\n"
          ]
        }
      ]
    },
    {
      "cell_type": "code",
      "source": [
        "#prime numbers\n",
        "import numpy as np\n",
        "\n",
        "# Define the array\n",
        "a = np.array([1, 2, 3, 4, 5, 6, 7])\n",
        "\n",
        "# Function to check if a number is prime\n",
        "def is_prime(n):\n",
        "    if n < 2:\n",
        "        return False\n",
        "    for i in range(2, int(n**0.5) + 1):\n",
        "        if n % i == 0:\n",
        "            return False\n",
        "    return True\n",
        "\n",
        "# Filtering prime numbers from the array\n",
        "prime_numbers = np.array([num for num in a if is_prime(num)])\n",
        "\n",
        "# Print the result\n",
        "print(\"Prime numbers:\", prime_numbers)\n",
        "\n"
      ],
      "metadata": {
        "id": "N99CZYd3yPOL",
        "colab": {
          "base_uri": "https://localhost:8080/"
        },
        "outputId": "376399d6-269c-4863-969f-a31ae822f3e3"
      },
      "execution_count": 33,
      "outputs": [
        {
          "output_type": "stream",
          "name": "stdout",
          "text": [
            "Prime numbers: [2 3 5 7]\n"
          ]
        }
      ]
    },
    {
      "cell_type": "code",
      "source": [
        "#converting 1d to 3d\n",
        "a=np.array([1,2,3,4,5,6,7,8,9])\n",
        "a2d=a.reshape(-1,3,1)\n",
        "print(a2d)\n"
      ],
      "metadata": {
        "id": "EaeNUxW_zcq1",
        "colab": {
          "base_uri": "https://localhost:8080/"
        },
        "outputId": "87aab6ad-1c53-4278-9579-852ebc484495"
      },
      "execution_count": 34,
      "outputs": [
        {
          "output_type": "stream",
          "name": "stdout",
          "text": [
            "[[[1]\n",
            "  [2]\n",
            "  [3]]\n",
            "\n",
            " [[4]\n",
            "  [5]\n",
            "  [6]]\n",
            "\n",
            " [[7]\n",
            "  [8]\n",
            "  [9]]]\n"
          ]
        }
      ]
    },
    {
      "cell_type": "code",
      "source": [
        "#indexing in 1d array\n",
        "a=np.array([1,2,3,4,5])\n",
        "a[1:4]"
      ],
      "metadata": {
        "id": "LSAN25j312gM",
        "colab": {
          "base_uri": "https://localhost:8080/"
        },
        "outputId": "3a3821b4-c700-4c0a-a0e4-98aef188bad8"
      },
      "execution_count": 35,
      "outputs": [
        {
          "output_type": "execute_result",
          "data": {
            "text/plain": [
              "array([2, 3, 4])"
            ]
          },
          "metadata": {},
          "execution_count": 35
        }
      ]
    },
    {
      "cell_type": "code",
      "source": [
        "#correlation b/w two arrays\n",
        "a=np.array([[1,2,3],[4,5,6],[7,8,9]])\n",
        "c1=a[:,0]\n",
        "c2=a[:,1]\n",
        "correlation=np.corrcoef(c1,c2)\n",
        "print(\"correlation coefficient between columno and column1:\")\n",
        "print(correlation [0,1])"
      ],
      "metadata": {
        "id": "1ylDVNl1EH6O",
        "colab": {
          "base_uri": "https://localhost:8080/"
        },
        "outputId": "0f0ca592-dece-421d-f2bf-aa9be06a310e"
      },
      "execution_count": 36,
      "outputs": [
        {
          "output_type": "stream",
          "name": "stdout",
          "text": [
            "correlation coefficient between columno and column1:\n",
            "1.0\n"
          ]
        }
      ]
    },
    {
      "cell_type": "code",
      "source": [
        "#probabilistic sampling\n",
        "pop=np.array(['A','B','C','D','e'])\n",
        "prob=np.array([0.1,0.2,0.3,0.2,0.2])\n",
        "samp_with_rep = np.random.choice(pop,size=4,p=prob,replace=True)\n",
        "print(\"sample with replacement:\",samp_with_rep)\n",
        "samp_without_rep=np.random.choice(pop,size=3,p=prob,replace=False)\n",
        "print(\"sample without replacement:\",samp_without_rep)\n",
        "\n"
      ],
      "metadata": {
        "id": "UfdQm9i-JkWX",
        "colab": {
          "base_uri": "https://localhost:8080/"
        },
        "outputId": "3f8ecf11-57c4-42d1-ea03-de1af04b3218"
      },
      "execution_count": 37,
      "outputs": [
        {
          "output_type": "stream",
          "name": "stdout",
          "text": [
            "sample with replacement: ['e' 'B' 'D' 'B']\n",
            "sample without replacement: ['D' 'B' 'e']\n"
          ]
        }
      ]
    },
    {
      "cell_type": "code",
      "source": [
        "\n",
        "def moving_average(arr, window_size):\n",
        "    kernel = np.ones(window_size) / window_size\n",
        "    moving_avg = np.convolve(arr, kernel, mode='valid')\n",
        "    return moving_avg\n",
        "\n",
        "arr = np.array([1, 2, 3, 4, 5, 6, 7, 8, 9, 10])\n",
        "window_size = 3\n",
        "result = moving_average(arr, window_size)\n",
        "print(\"Moving average:\", result)\n",
        "\n",
        "\n"
      ],
      "metadata": {
        "id": "Ci9lWDrTOpGw",
        "colab": {
          "base_uri": "https://localhost:8080/"
        },
        "outputId": "66d05601-6a45-47c4-994a-891b4964254a"
      },
      "execution_count": 38,
      "outputs": [
        {
          "output_type": "stream",
          "name": "stdout",
          "text": [
            "Moving average: [2. 3. 4. 5. 6. 7. 8. 9.]\n"
          ]
        }
      ]
    },
    {
      "cell_type": "code",
      "source": [
        "#find the position of missing values\n",
        "arr=np.array([1,2,np.nan,4,np.nan,6,7,np.nan])\n",
        "missing_value_positions=np.where(np.isnan(arr))[0]\n",
        "print(\"positions of missing values:\",missing_value_positions)\n"
      ],
      "metadata": {
        "id": "oiEP-hv8IrOO",
        "colab": {
          "base_uri": "https://localhost:8080/"
        },
        "outputId": "3d42356b-6c7c-49e7-834a-6c1f64a88bed"
      },
      "execution_count": 39,
      "outputs": [
        {
          "output_type": "stream",
          "name": "stdout",
          "text": [
            "positions of missing values: [2 4 7]\n"
          ]
        }
      ]
    },
    {
      "cell_type": "code",
      "source": [
        "#drop rows that contain the missing value\n",
        "sample_data=np.array([1,2,7,8,np.nan,9,5,np.nan,1,0])\n",
        "print(\"this is a sample data with nan valuesin it:\",sample_data)\n",
        "remove_nan=sample_data[np.logical_not(np.isnan(sample_data))]\n",
        "print(remove_nan)"
      ],
      "metadata": {
        "id": "aNPmNaB2gmJw",
        "colab": {
          "base_uri": "https://localhost:8080/"
        },
        "outputId": "9bb7d9fb-5e49-4943-db19-6065cbfc6664"
      },
      "execution_count": 40,
      "outputs": [
        {
          "output_type": "stream",
          "name": "stdout",
          "text": [
            "this is a sample data with nan valuesin it: [ 1.  2.  7.  8. nan  9.  5. nan  1.  0.]\n",
            "[1. 2. 7. 8. 9. 5. 1. 0.]\n"
          ]
        }
      ]
    },
    {
      "cell_type": "code",
      "source": [
        "#missing values with 0\n",
        "import numpy as np\n",
        "\n",
        "#create array of data\n",
        "my_array = np.array([4, np.nan, 6, np.nan, 10, 11, 14, 19, 22])\n",
        "\n",
        "#replace nan values with zero in array\n",
        "my_array[np.isnan(my_array)] = 0\n",
        "\n",
        "#view updated array\n",
        "print(my_array)"
      ],
      "metadata": {
        "id": "yZjRa_z6lVrn",
        "colab": {
          "base_uri": "https://localhost:8080/"
        },
        "outputId": "7222eba4-3156-4341-a52e-c251d9dd855c"
      },
      "execution_count": 41,
      "outputs": [
        {
          "output_type": "stream",
          "name": "stdout",
          "text": [
            "[ 4.  0.  6.  0. 10. 11. 14. 19. 22.]\n"
          ]
        }
      ]
    },
    {
      "cell_type": "code",
      "source": [
        "x=np.array([1,2,np.nan,3,np.nan,])\n",
        "y=np.array([[1,2,3],[4,np.nan,5],[np.nan,7,8]])\n",
        "print(\"original array:\",x )\n",
        "result = x[np.logical_not(np.isnan(x))]\n",
        "print(\"after removing:\",result)\n",
        "result_y=y[np.logical_not(np.isnan(y))]\n",
        "print(\"orginal array:\",y)\n",
        "print(\"after removing nun :\",result_y)"
      ],
      "metadata": {
        "id": "xc8rQlL0oWv_",
        "colab": {
          "base_uri": "https://localhost:8080/"
        },
        "outputId": "b1a4b310-6def-4998-ab30-b9f1e60f6190"
      },
      "execution_count": 42,
      "outputs": [
        {
          "output_type": "stream",
          "name": "stdout",
          "text": [
            "original array: [ 1.  2. nan  3. nan]\n",
            "after removing: [1. 2. 3.]\n",
            "orginal array: [[ 1.  2.  3.]\n",
            " [ 4. nan  5.]\n",
            " [nan  7.  8.]]\n",
            "after removing nun : [1. 2. 3. 4. 5. 7. 8.]\n"
          ]
        }
      ]
    },
    {
      "cell_type": "code",
      "source": [
        "#min by max\n",
        "arr = np.array([[1,2,33],[4,5,6],[7,8,9]])\n",
        "print(arr)\n",
        "min=np.min(arr,axis=1)\n",
        "max=np.max(arr,axis=1)\n",
        "minbymax=min/max\n",
        "print(minbymax)"
      ],
      "metadata": {
        "id": "Cwa5q7p4h33a",
        "colab": {
          "base_uri": "https://localhost:8080/"
        },
        "outputId": "9dc35c44-0a57-4a9e-fa52-2d3f3c9952d5"
      },
      "execution_count": 43,
      "outputs": [
        {
          "output_type": "stream",
          "name": "stdout",
          "text": [
            "[[ 1  2 33]\n",
            " [ 4  5  6]\n",
            " [ 7  8  9]]\n",
            "[0.03030303 0.66666667 0.77777778]\n"
          ]
        }
      ]
    },
    {
      "cell_type": "code",
      "source": [
        "#normalization\n",
        "x=np.random.random((3,3))\n",
        "print(\"orginal array:\",x)\n",
        "xmax, xmin = x.max(), x.min()\n",
        "y = (x - xmin) / (xmax - xmin)\n",
        "print(\"normalizatio:\",y)"
      ],
      "metadata": {
        "id": "Cn2NHaYYtKDJ",
        "colab": {
          "base_uri": "https://localhost:8080/"
        },
        "outputId": "f29fce34-84bd-4b46-b442-28ccf339c42e"
      },
      "execution_count": 44,
      "outputs": [
        {
          "output_type": "stream",
          "name": "stdout",
          "text": [
            "orginal array: [[0.52894863 0.14365782 0.71775526]\n",
            " [0.52585941 0.83190775 0.72950929]\n",
            " [0.98239779 0.35634334 0.16476519]]\n",
            "normalizatio: [[0.45936861 0.         0.68447607]\n",
            " [0.45568544 0.82057605 0.69848999]\n",
            " [1.         0.25357742 0.02516557]]\n"
          ]
        }
      ]
    },
    {
      "cell_type": "code",
      "source": [
        "# Transpose of an array\n",
        "#It will not affect the original array, but it will create a new array.\n",
        "my_array = np.array([[1,2,3],\n",
        "                    [4,5,6]])\n",
        "print( np.transpose(my_array))"
      ],
      "metadata": {
        "colab": {
          "base_uri": "https://localhost:8080/"
        },
        "id": "uW1xaterhG-f",
        "outputId": "683461f1-acb6-4cda-f4b2-32710c0a8c45"
      },
      "execution_count": 45,
      "outputs": [
        {
          "output_type": "stream",
          "name": "stdout",
          "text": [
            "[[1 4]\n",
            " [2 5]\n",
            " [3 6]]\n"
          ]
        }
      ]
    },
    {
      "cell_type": "code",
      "source": [
        "#flatten\n",
        "#The tool flatten creates a copy of the input array flattened to one dimension.\n",
        "my_array = np.array([[1,2,3],\n",
        "                        [4,5,6]])\n",
        "print (my_array.flatten())"
      ],
      "metadata": {
        "colab": {
          "base_uri": "https://localhost:8080/"
        },
        "id": "Gmhv1uSDiNRl",
        "outputId": "fb92d9a4-e9a6-4203-bbe8-e4227375bc93"
      },
      "execution_count": 46,
      "outputs": [
        {
          "output_type": "stream",
          "name": "stdout",
          "text": [
            "[1 2 3 4 5 6]\n"
          ]
        }
      ]
    },
    {
      "cell_type": "code",
      "source": [
        "#The zeros tool returns a new array with a given shape and type filled with 0\n",
        "print( np.zeros((1,2)) )"
      ],
      "metadata": {
        "colab": {
          "base_uri": "https://localhost:8080/"
        },
        "id": "S4aDO3IfloHK",
        "outputId": "6797022a-d3fe-4b6a-c252-71d288bddf50"
      },
      "execution_count": 52,
      "outputs": [
        {
          "output_type": "stream",
          "name": "stdout",
          "text": [
            "[[0. 0.]]\n"
          ]
        }
      ]
    },
    {
      "cell_type": "code",
      "source": [
        "#The ones tool returns a new array with a given shape and type filled with 1\n",
        "\n",
        "print( np.ones((1,2)) )"
      ],
      "metadata": {
        "colab": {
          "base_uri": "https://localhost:8080/"
        },
        "id": "da917BEYuuHW",
        "outputId": "50f3a6ae-b713-4540-9487-b5898503d9d6"
      },
      "execution_count": 54,
      "outputs": [
        {
          "output_type": "stream",
          "name": "stdout",
          "text": [
            "[[1. 1.]]\n"
          ]
        }
      ]
    },
    {
      "cell_type": "code",
      "source": [
        "# An identity array is a square matrix with all the main diagonal elements as 1 and the rest as 0\n",
        "print(np.identity(3))   # The default type of elements is float."
      ],
      "metadata": {
        "colab": {
          "base_uri": "https://localhost:8080/"
        },
        "id": "Dl-m0MsL9Orb",
        "outputId": "0620d490-933f-41df-ce04-6a2b11a98d44"
      },
      "execution_count": 56,
      "outputs": [
        {
          "output_type": "stream",
          "name": "stdout",
          "text": [
            "[[1. 0. 0.]\n",
            " [0. 1. 0.]\n",
            " [0. 0. 1.]]\n"
          ]
        }
      ]
    },
    {
      "cell_type": "code",
      "source": [
        "#eye\n",
        "print (np.eye(8, 7, k = 1)) #8 rows,7 coloums,k=1 means it creates 1's as diagonal from the index[1]\n",
        "#note:A positive  is for the upper diagonal,\n",
        "# a negative  is for the lower,\n",
        " #default is for the main diagonal."
      ],
      "metadata": {
        "colab": {
          "base_uri": "https://localhost:8080/"
        },
        "id": "GdWxu5bG944R",
        "outputId": "3aed9cd7-f6a8-4b45-e95f-d25ab225b1d0"
      },
      "execution_count": 58,
      "outputs": [
        {
          "output_type": "stream",
          "name": "stdout",
          "text": [
            "[[0. 1. 0. 0. 0. 0. 0.]\n",
            " [0. 0. 1. 0. 0. 0. 0.]\n",
            " [0. 0. 0. 1. 0. 0. 0.]\n",
            " [0. 0. 0. 0. 1. 0. 0.]\n",
            " [0. 0. 0. 0. 0. 1. 0.]\n",
            " [0. 0. 0. 0. 0. 0. 1.]\n",
            " [0. 0. 0. 0. 0. 0. 0.]\n",
            " [0. 0. 0. 0. 0. 0. 0.]]\n"
          ]
        }
      ]
    },
    {
      "cell_type": "code",
      "source": [
        "#sum:the sum of array elements over a given axis.\n",
        "my_array = np.array([ [1, 2], [3, 4] ])\n",
        "\n",
        "print(np.sum(my_array, axis = 0))\n",
        "print(np.sum(my_array, axis = 1))\n",
        "print(np.sum(my_array, axis = None))\n",
        "print(np.sum(my_array)) #by default axis=none\n"
      ],
      "metadata": {
        "colab": {
          "base_uri": "https://localhost:8080/"
        },
        "id": "N-Bpz_pG_yO-",
        "outputId": "2ebec840-8f0b-4258-b71a-561ac269c26e"
      },
      "execution_count": 60,
      "outputs": [
        {
          "output_type": "stream",
          "name": "stdout",
          "text": [
            "[4 6]\n",
            "[3 7]\n",
            "10\n",
            "10\n"
          ]
        }
      ]
    },
    {
      "cell_type": "code",
      "source": [
        "#prod:the product of array elements over a given axis.\n",
        "my_array = np.array([ [1, 2], [3, 4] ])\n",
        "\n",
        "print(np.prod(my_array, axis = 0))\n",
        "print(np.prod(my_array, axis = 1))\n",
        "print(np.prod(my_array, axis = None))\n",
        "print(np.prod(my_array)) #by default axis=none\n",
        "\n"
      ],
      "metadata": {
        "colab": {
          "base_uri": "https://localhost:8080/"
        },
        "id": "QuioOmggBNTu",
        "outputId": "1f240f66-beba-4efb-da59-aa74d9772e7b"
      },
      "execution_count": 61,
      "outputs": [
        {
          "output_type": "stream",
          "name": "stdout",
          "text": [
            "[3 8]\n",
            "[ 2 12]\n",
            "24\n",
            "24\n"
          ]
        }
      ]
    },
    {
      "cell_type": "code",
      "source": [
        "#min:\n",
        "my_array = np.array([[2, 5],\n",
        "                        [3, 7],\n",
        "                        [1, 3],\n",
        "                        [4, 0]])\n",
        "\n",
        "print(np.min(my_array, axis = 0) )\n",
        "print (np.min(my_array, axis = 1))\n",
        "print (np.min(my_array, axis = None) )\n",
        "print(np.min(my_array))"
      ],
      "metadata": {
        "colab": {
          "base_uri": "https://localhost:8080/"
        },
        "id": "Cfbygk__B0Wy",
        "outputId": "da972254-7f37-453e-822f-7332de90efc9"
      },
      "execution_count": 63,
      "outputs": [
        {
          "output_type": "stream",
          "name": "stdout",
          "text": [
            "[1 0]\n",
            "[2 3 1 0]\n",
            "0\n",
            "0\n"
          ]
        }
      ]
    },
    {
      "cell_type": "code",
      "source": [
        "#dot:Measures similarity\n",
        "\n",
        "A = np.array([1, 2, 3])\n",
        "B = np.array([4, 5, 6])\n",
        "\n",
        "dot_product = np.dot(A, B)  # (1×4)+(2×5)+(3×6)=4+10+18=32\n",
        "print(dot_product)  # Output: 32\n"
      ],
      "metadata": {
        "colab": {
          "base_uri": "https://localhost:8080/"
        },
        "id": "5gBMyoYlIQAz",
        "outputId": "050fed09-3237-4902-93a6-8a4dcfe378fe"
      },
      "execution_count": 65,
      "outputs": [
        {
          "output_type": "stream",
          "name": "stdout",
          "text": [
            "32\n"
          ]
        }
      ]
    },
    {
      "cell_type": "code",
      "source": [
        "#cross:Finds perpendicular vector\n",
        "A = np.array([1, 2, 0])\n",
        "B = np.array([3, 4, 0])\n",
        "\n",
        "print(np.cross(A, B))  # Only for 3D vectors\n"
      ],
      "metadata": {
        "colab": {
          "base_uri": "https://localhost:8080/"
        },
        "id": "35ux2-jSIqWQ",
        "outputId": "39ccdff7-d352-4adf-c6d2-e5141d69266a"
      },
      "execution_count": 75,
      "outputs": [
        {
          "output_type": "stream",
          "name": "stdout",
          "text": [
            "[ 0  0 -2]\n"
          ]
        }
      ]
    },
    {
      "cell_type": "code",
      "source": [
        "#Inner: computes the inner product (dot product) of A and B.\n",
        "\n",
        "A = np.array([0, 1])\n",
        "B = np.array([3, 4])\n",
        "\n",
        "print(np.inner(A, B))\n"
      ],
      "metadata": {
        "colab": {
          "base_uri": "https://localhost:8080/"
        },
        "id": "o_XBiZL9K4ua",
        "outputId": "5243ebd5-f1e9-4372-b6d0-146a79fb40d8"
      },
      "execution_count": 76,
      "outputs": [
        {
          "output_type": "stream",
          "name": "stdout",
          "text": [
            "4\n"
          ]
        }
      ]
    },
    {
      "cell_type": "code",
      "source": [
        "#Inner: computes the inner product (dot product) of A and B.\n",
        "\n",
        "A = np.array([0, 1])\n",
        "B = np.array([3, 4])\n",
        "\n",
        "print(np.outer(A, B))\n"
      ],
      "metadata": {
        "colab": {
          "base_uri": "https://localhost:8080/"
        },
        "id": "vl2dB1QCMSgv",
        "outputId": "adcb3b5d-49f0-4793-e057-e0411f972c26"
      },
      "execution_count": 78,
      "outputs": [
        {
          "output_type": "stream",
          "name": "stdout",
          "text": [
            "[[0 0]\n",
            " [3 4]]\n"
          ]
        }
      ]
    },
    {
      "cell_type": "code",
      "source": [
        "#linalg.det\n",
        "print(np.linalg.det([[1 , 2], [2, 1]]) )"
      ],
      "metadata": {
        "colab": {
          "base_uri": "https://localhost:8080/"
        },
        "id": "6Fv1JjOoNADH",
        "outputId": "11fb2d4b-3455-49e4-e3f9-7af9e2464fe4"
      },
      "execution_count": 80,
      "outputs": [
        {
          "output_type": "stream",
          "name": "stdout",
          "text": [
            "-2.9999999999999996\n"
          ]
        }
      ]
    },
    {
      "cell_type": "code",
      "source": [
        "#linalg.eig\n",
        "vals, vecs = np.linalg.eig([[1 , 2], [2, 1]])\n",
        "print( vals )                                     #Output : [ 3. -1.]\n",
        "print (vecs )"
      ],
      "metadata": {
        "colab": {
          "base_uri": "https://localhost:8080/"
        },
        "id": "viXWBBDFNJQd",
        "outputId": "7e6e4155-254c-498d-9a7a-f5a697a58f0a"
      },
      "execution_count": 82,
      "outputs": [
        {
          "output_type": "stream",
          "name": "stdout",
          "text": [
            "[ 3. -1.]\n",
            "[[ 0.70710678 -0.70710678]\n",
            " [ 0.70710678  0.70710678]]\n"
          ]
        }
      ]
    },
    {
      "cell_type": "code",
      "source": [
        "#linalg.inv\n",
        "print (np.linalg.inv([[1 , 2], [2, 1]])  )"
      ],
      "metadata": {
        "colab": {
          "base_uri": "https://localhost:8080/"
        },
        "id": "qE7R86agNgxf",
        "outputId": "4301f4ce-698a-4776-d9d0-5f83cc581af4"
      },
      "execution_count": 83,
      "outputs": [
        {
          "output_type": "stream",
          "name": "stdout",
          "text": [
            "[[-0.33333333  0.66666667]\n",
            " [ 0.66666667 -0.33333333]]\n"
          ]
        }
      ]
    }
  ]
}