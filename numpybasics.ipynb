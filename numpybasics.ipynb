{
  "nbformat": 4,
  "nbformat_minor": 0,
  "metadata": {
    "colab": {
      "provenance": [],
      "authorship_tag": "ABX9TyO2Fe7SutSbuSvp2eSSpq08",
      "include_colab_link": true
    },
    "kernelspec": {
      "name": "python3",
      "display_name": "Python 3"
    },
    "language_info": {
      "name": "python"
    }
  },
  "cells": [
    {
      "cell_type": "markdown",
      "metadata": {
        "id": "view-in-github",
        "colab_type": "text"
      },
      "source": [
        "<a href=\"https://colab.research.google.com/github/RaviralaLathasri/numpybasics/blob/main/numpybasics.ipynb\" target=\"_parent\"><img src=\"https://colab.research.google.com/assets/colab-badge.svg\" alt=\"Open In Colab\"/></a>"
      ]
    },
    {
      "cell_type": "code",
      "source": [
        "import numpy as np\n",
        "l1=[1,2,3]\n",
        "array1=np.array(l1)\n",
        "array1"
      ],
      "metadata": {
        "colab": {
          "base_uri": "https://localhost:8080/"
        },
        "id": "RRcFQZVU9NaR",
        "outputId": "14e5b760-4d67-4f00-9eac-33aea8147533"
      },
      "execution_count": 1,
      "outputs": [
        {
          "output_type": "execute_result",
          "data": {
            "text/plain": [
              "array([1, 2, 3])"
            ]
          },
          "metadata": {},
          "execution_count": 1
        }
      ]
    },
    {
      "cell_type": "code",
      "source": [
        "a=np.array([1,2,3,7])\n",
        "for x in a:\n",
        "  print(x)"
      ],
      "metadata": {
        "colab": {
          "base_uri": "https://localhost:8080/"
        },
        "id": "9lQA1bnz9ev5",
        "outputId": "0b5659b0-3720-402c-dda6-291a5189e74f"
      },
      "execution_count": 2,
      "outputs": [
        {
          "output_type": "stream",
          "name": "stdout",
          "text": [
            "1\n",
            "2\n",
            "3\n",
            "7\n"
          ]
        }
      ]
    },
    {
      "cell_type": "code",
      "source": [
        "#creates a NumPy array with a minimum of 5 dimensions.\n",
        "a=np.array([1,2,3,4,5,6],ndmin=5)\n",
        "a"
      ],
      "metadata": {
        "colab": {
          "base_uri": "https://localhost:8080/"
        },
        "id": "kVVGw0On967D",
        "outputId": "9b4f8c15-e9fc-464d-eb75-7c211c75cecb"
      },
      "execution_count": 3,
      "outputs": [
        {
          "output_type": "execute_result",
          "data": {
            "text/plain": [
              "array([[[[[1, 2, 3, 4, 5, 6]]]]])"
            ]
          },
          "metadata": {},
          "execution_count": 3
        }
      ]
    },
    {
      "cell_type": "code",
      "source": [
        "#concatenate the two arrays\n",
        "a1=np.array([1,2,3,4])\n",
        "a2=np.array([53,67,99])\n",
        "a3=np.concatenate((a1,a2))\n",
        "print(a3)"
      ],
      "metadata": {
        "colab": {
          "base_uri": "https://localhost:8080/"
        },
        "id": "mYkGiqTo-eIp",
        "outputId": "d5b89f93-8dcf-4144-d5c8-e073e4a89b97"
      },
      "execution_count": 4,
      "outputs": [
        {
          "output_type": "stream",
          "name": "stdout",
          "text": [
            "[ 1  2  3  4 53 67 99]\n"
          ]
        }
      ]
    },
    {
      "cell_type": "code",
      "source": [
        "#concatenate in 2d\n",
        "a1=np.array([[1,2,3,4],[21,22,23,24]])\n",
        "a2=np.array([[53,67,9,9],[45,46,47,48]])\n",
        "a3=np.concatenate((a1,a2),axis=1)\n",
        "print(a3)\n"
      ],
      "metadata": {
        "colab": {
          "base_uri": "https://localhost:8080/"
        },
        "id": "7WGKxpwtB9Bx",
        "outputId": "b692cc28-4070-495a-90fb-3ee9319dcb07"
      },
      "execution_count": 5,
      "outputs": [
        {
          "output_type": "stream",
          "name": "stdout",
          "text": [
            "[[ 1  2  3  4 53 67  9  9]\n",
            " [21 22 23 24 45 46 47 48]]\n"
          ]
        }
      ]
    },
    {
      "cell_type": "code",
      "source": [
        "#split\n",
        "a1=np.array([[1,2,3,4],[21,22,23,24]])\n",
        "array=np.array_split(a1,1)\n",
        "print(array)"
      ],
      "metadata": {
        "colab": {
          "base_uri": "https://localhost:8080/"
        },
        "id": "AnrTcZpzEXkS",
        "outputId": "bc599596-0f7e-4b6d-e052-b22246693b27"
      },
      "execution_count": 6,
      "outputs": [
        {
          "output_type": "stream",
          "name": "stdout",
          "text": [
            "[array([[ 1,  2,  3,  4],\n",
            "       [21, 22, 23, 24]])]\n"
          ]
        }
      ]
    },
    {
      "cell_type": "code",
      "source": [
        "#searching\n",
        "a1=np.array([[1,2,3,4],[21,22,23,4]])\n",
        "x=np.where(a1==4)\n",
        "print(x)"
      ],
      "metadata": {
        "colab": {
          "base_uri": "https://localhost:8080/"
        },
        "id": "hN7VygI1FofB",
        "outputId": "0251668d-222b-44bd-a17d-150e026e56ed"
      },
      "execution_count": 7,
      "outputs": [
        {
          "output_type": "stream",
          "name": "stdout",
          "text": [
            "(array([0, 1]), array([3, 3]))\n"
          ]
        }
      ]
    },
    {
      "cell_type": "code",
      "source": [
        "#sorting\n",
        "a=np.array([[1,3,5,6],[8,9,2,5]])\n",
        "x=np.sort(a)\n",
        "x"
      ],
      "metadata": {
        "colab": {
          "base_uri": "https://localhost:8080/"
        },
        "id": "FBdCFub7I6t1",
        "outputId": "ca57dba5-a92a-4de5-fac3-510a271cf7a6"
      },
      "execution_count": 8,
      "outputs": [
        {
          "output_type": "execute_result",
          "data": {
            "text/plain": [
              "array([[1, 3, 5, 6],\n",
              "       [2, 5, 8, 9]])"
            ]
          },
          "metadata": {},
          "execution_count": 8
        }
      ]
    },
    {
      "cell_type": "code",
      "source": [
        "#sorting of alphabets\n",
        "a=np.array([['raja','latha','sruthi'],['manasa','rosh','sanju']])\n",
        "x=np.sort(a)\n",
        "x"
      ],
      "metadata": {
        "colab": {
          "base_uri": "https://localhost:8080/"
        },
        "id": "r-OAJTcQJvtq",
        "outputId": "ff005ea7-daa1-4506-b4a0-8931186440d9"
      },
      "execution_count": 9,
      "outputs": [
        {
          "output_type": "execute_result",
          "data": {
            "text/plain": [
              "array([['latha', 'raja', 'sruthi'],\n",
              "       ['manasa', 'rosh', 'sanju']], dtype='<U6')"
            ]
          },
          "metadata": {},
          "execution_count": 9
        }
      ]
    },
    {
      "cell_type": "code",
      "source": [
        "#ndemurate in 1D\n",
        "a=np.array([11,32,35,4])\n",
        "for idx,x in np.ndenumerate(a):\n",
        "  print(idx,x)"
      ],
      "metadata": {
        "colab": {
          "base_uri": "https://localhost:8080/"
        },
        "id": "8I2N0Ef9LGUC",
        "outputId": "0b252184-fbe3-405f-d963-226089095040"
      },
      "execution_count": 10,
      "outputs": [
        {
          "output_type": "stream",
          "name": "stdout",
          "text": [
            "(0,) 11\n",
            "(1,) 32\n",
            "(2,) 35\n",
            "(3,) 4\n"
          ]
        }
      ]
    },
    {
      "cell_type": "code",
      "source": [
        "#ndemurate in 2D\n",
        "a=np.array([[21,23,35],[445,46,43]])\n",
        "for idx,x in np.ndenumerate(a):\n",
        "  print(idx,x)"
      ],
      "metadata": {
        "colab": {
          "base_uri": "https://localhost:8080/"
        },
        "id": "NPmZrHNGL5WJ",
        "outputId": "d794f532-a3d7-47ba-b226-daa119b99edb"
      },
      "execution_count": 11,
      "outputs": [
        {
          "output_type": "stream",
          "name": "stdout",
          "text": [
            "(0, 0) 21\n",
            "(0, 1) 23\n",
            "(0, 2) 35\n",
            "(1, 0) 445\n",
            "(1, 1) 46\n",
            "(1, 2) 43\n"
          ]
        }
      ]
    },
    {
      "cell_type": "code",
      "source": [
        "#filters\n",
        "a=np.array([4,6,8,34])\n",
        "x=[True,False,False,True]\n",
        "newarr=a[x]\n",
        "newarr"
      ],
      "metadata": {
        "colab": {
          "base_uri": "https://localhost:8080/"
        },
        "id": "SuQ6ol6TMwrC",
        "outputId": "8ab9de7b-9a8a-4377-ecd3-1b878fca6846"
      },
      "execution_count": 12,
      "outputs": [
        {
          "output_type": "execute_result",
          "data": {
            "text/plain": [
              "array([ 4, 34])"
            ]
          },
          "metadata": {},
          "execution_count": 12
        }
      ]
    },
    {
      "cell_type": "code",
      "source": [
        "array1=np.array([1,2,3])\n",
        "array1"
      ],
      "metadata": {
        "colab": {
          "base_uri": "https://localhost:8080/"
        },
        "id": "rG6YtFBe6062",
        "outputId": "e9251db8-ea08-49fb-ec09-6d33f2752728"
      },
      "execution_count": 13,
      "outputs": [
        {
          "output_type": "execute_result",
          "data": {
            "text/plain": [
              "array([1, 2, 3])"
            ]
          },
          "metadata": {},
          "execution_count": 13
        }
      ]
    },
    {
      "cell_type": "code",
      "source": [
        "#boolean\n",
        "array1=np.array([0,1,2,3])\n",
        "array2=array1.astype(bool)\n",
        "array2"
      ],
      "metadata": {
        "colab": {
          "base_uri": "https://localhost:8080/"
        },
        "id": "mwIT3S7H9w6V",
        "outputId": "7f7f8bed-bd9e-4ad1-ebfc-a01d95185441"
      },
      "execution_count": 14,
      "outputs": [
        {
          "output_type": "execute_result",
          "data": {
            "text/plain": [
              "array([False,  True,  True,  True])"
            ]
          },
          "metadata": {},
          "execution_count": 14
        }
      ]
    },
    {
      "cell_type": "code",
      "source": [
        " #finding the indices of even numbers in a NumPy array.\n",
        "a1=np.array([1,2,3,4])\n",
        "a2=np.where(a1%2==0)\n",
        "print(\"even\",a2)\n"
      ],
      "metadata": {
        "colab": {
          "base_uri": "https://localhost:8080/"
        },
        "id": "4Yevkv1yAkim",
        "outputId": "32e61b5e-2b78-49ff-c506-a8d47e7fb633"
      },
      "execution_count": 15,
      "outputs": [
        {
          "output_type": "stream",
          "name": "stdout",
          "text": [
            "even (array([1, 3]),)\n"
          ]
        }
      ]
    },
    {
      "cell_type": "code",
      "source": [
        "#view(new addresses allocated)\n",
        "a1=np.array([1,2,3,4])\n",
        "a2=a1.view()\n",
        "a2[3]=5\n",
        "print(a2)"
      ],
      "metadata": {
        "colab": {
          "base_uri": "https://localhost:8080/"
        },
        "id": "1MlBvFjJCq-E",
        "outputId": "06150d1a-cf15-47fa-f110-3aa5a455d998"
      },
      "execution_count": 16,
      "outputs": [
        {
          "output_type": "stream",
          "name": "stdout",
          "text": [
            "[1 2 3 5]\n"
          ]
        }
      ]
    },
    {
      "cell_type": "code",
      "source": [
        "#copy(original not effects)\n",
        "a1=np.array([1,2,3,4])\n",
        "a2=a1.copy()\n",
        "a2[3]=5\n",
        "print(a2)\n"
      ],
      "metadata": {
        "colab": {
          "base_uri": "https://localhost:8080/"
        },
        "id": "t7t2S1WeHJ0u",
        "outputId": "d659edf4-9df3-40c3-93c4-59922a05163a"
      },
      "execution_count": 17,
      "outputs": [
        {
          "output_type": "stream",
          "name": "stdout",
          "text": [
            "[1 2 3 5]\n"
          ]
        }
      ]
    },
    {
      "cell_type": "code",
      "source": [
        "#filtering elements from a NumPy array that fall within a specified range (between lb and ub inclusively).\n",
        "\n",
        "a1 = np.array([1, 2, 3, 4])  # Create a NumPy array\n",
        "lb = 3  # Lower bound\n",
        "ub = 5  # Upper bound\n",
        "\n",
        "a2 = a1[(a1 >= lb) & (a1 <= ub)]  # Filter values within range [3,5]\n",
        "print(a2)\n"
      ],
      "metadata": {
        "colab": {
          "base_uri": "https://localhost:8080/"
        },
        "id": "EOQRo14sIHev",
        "outputId": "c70c42d3-72e8-4274-c7c2-62b5ea3d233f"
      },
      "execution_count": 18,
      "outputs": [
        {
          "output_type": "stream",
          "name": "stdout",
          "text": [
            "[3 4]\n"
          ]
        }
      ]
    },
    {
      "cell_type": "code",
      "source": [
        "a1=np.array([1,2,3,4,9,6])\n",
        "a1.reshape(3,2)\n"
      ],
      "metadata": {
        "id": "74zbgu-pKGwP",
        "colab": {
          "base_uri": "https://localhost:8080/"
        },
        "outputId": "61e5fc89-85ad-4d7f-a93e-54550c909441"
      },
      "execution_count": 19,
      "outputs": [
        {
          "output_type": "execute_result",
          "data": {
            "text/plain": [
              "array([[1, 2],\n",
              "       [3, 4],\n",
              "       [9, 6]])"
            ]
          },
          "metadata": {},
          "execution_count": 19
        }
      ]
    },
    {
      "cell_type": "code",
      "source": [
        "a1=np.array([1,2,3,4,9,6])\n",
        "for x in a1[1:5]:\n",
        "  print(x)"
      ],
      "metadata": {
        "id": "gaOCDVZCMH6W",
        "colab": {
          "base_uri": "https://localhost:8080/"
        },
        "outputId": "e88910ea-31e1-46f7-ff69-33ec48d66392"
      },
      "execution_count": 20,
      "outputs": [
        {
          "output_type": "stream",
          "name": "stdout",
          "text": [
            "2\n",
            "3\n",
            "4\n",
            "9\n"
          ]
        }
      ]
    },
    {
      "cell_type": "code",
      "source": [
        "#union\n",
        "a1=np.array([1,2,3,4])\n",
        "a2=np.array([1,23,32,14])\n",
        "a3=np.union1d(a1,a2)\n",
        "print(a3)"
      ],
      "metadata": {
        "id": "HpLLm1rwM2X2",
        "colab": {
          "base_uri": "https://localhost:8080/"
        },
        "outputId": "7c596356-fd40-4dce-ad7a-feda2005df9c"
      },
      "execution_count": 21,
      "outputs": [
        {
          "output_type": "stream",
          "name": "stdout",
          "text": [
            "[ 1  2  3  4 14 23 32]\n"
          ]
        }
      ]
    },
    {
      "cell_type": "code",
      "source": [
        "a1=np.array([[1,2,3,4],[21,22,23,4]])"
      ],
      "metadata": {
        "id": "jN1VOcXANUZ-"
      },
      "execution_count": 22,
      "outputs": []
    },
    {
      "cell_type": "code",
      "source": [
        "#intersection\n",
        "a1=np.array([1,2,21,4])\n",
        "a2=np.array([1,21,32,14])\n",
        "a3=np.intersect1d(a1,a2)\n",
        "print(a3)"
      ],
      "metadata": {
        "id": "XG2_0NgFOZpe",
        "colab": {
          "base_uri": "https://localhost:8080/"
        },
        "outputId": "62d5c2c9-690d-4743-ced4-777033399cca"
      },
      "execution_count": 23,
      "outputs": [
        {
          "output_type": "stream",
          "name": "stdout",
          "text": [
            "[ 1 21]\n"
          ]
        }
      ]
    },
    {
      "cell_type": "code",
      "source": [
        "#positions of the intersection\n",
        "a1=np.array([1,2,21,4])\n",
        "a2=np.array([1,21,32,14])\n",
        "a3=np.intersect1d(a1,a2)\n",
        "print(a3)\n",
        "position=np.where(a3==a3)\n",
        "print(position)"
      ],
      "metadata": {
        "id": "UMxt0kbGRAp_",
        "colab": {
          "base_uri": "https://localhost:8080/"
        },
        "outputId": "6bfc26b5-0882-4cfa-ffee-0762c888e3e4"
      },
      "execution_count": 24,
      "outputs": [
        {
          "output_type": "stream",
          "name": "stdout",
          "text": [
            "[ 1 21]\n",
            "(array([0, 1]),)\n"
          ]
        }
      ]
    },
    {
      "cell_type": "code",
      "source": [
        "#converting the array into 1d\n",
        "a=np.array([[1,2,3],[4,5,6],[7,8,9]])\n",
        "print(np.reshape(a,(1,-1,)))\n",
        "#another method\n",
        "print(np.ravel(a))"
      ],
      "metadata": {
        "id": "CQs1ek2iAnPE",
        "colab": {
          "base_uri": "https://localhost:8080/"
        },
        "outputId": "92f44246-5583-4bca-d6a9-bee69090b4e5"
      },
      "execution_count": 25,
      "outputs": [
        {
          "output_type": "stream",
          "name": "stdout",
          "text": [
            "[[1 2 3 4 5 6 7 8 9]]\n",
            "[1 2 3 4 5 6 7 8 9]\n"
          ]
        }
      ]
    },
    {
      "cell_type": "code",
      "source": [
        "#swaping 2 colums in 2d\n",
        "a=np.array([[1,2,3],[4,5,6]])\n",
        "print(a)\n",
        "a[:,[0,1]]=a[:,[1,0]]\n",
        "print(a)"
      ],
      "metadata": {
        "id": "4bd2iKRJFC_U",
        "colab": {
          "base_uri": "https://localhost:8080/"
        },
        "outputId": "be5ff6f1-cd8f-45d8-a5b5-693a7cef54c4"
      },
      "execution_count": 26,
      "outputs": [
        {
          "output_type": "stream",
          "name": "stdout",
          "text": [
            "[[1 2 3]\n",
            " [4 5 6]]\n",
            "[[2 1 3]\n",
            " [5 4 6]]\n"
          ]
        }
      ]
    },
    {
      "cell_type": "code",
      "source": [
        "#finding the mean,median,sd of array\n",
        "a=np.array([1,2,3,34,76,81,2])\n",
        "print(\"mean of array is:\",np.mean(a))\n",
        "print(\"median of array:\",np.median(a))\n",
        "print(\"sd of array:\",np.std(a))\n"
      ],
      "metadata": {
        "id": "gbe47C5oHi9u",
        "colab": {
          "base_uri": "https://localhost:8080/"
        },
        "outputId": "32c5d10a-1cd4-4725-aefe-4fa4f073d625"
      },
      "execution_count": 27,
      "outputs": [
        {
          "output_type": "stream",
          "name": "stdout",
          "text": [
            "mean of array is: 28.428571428571427\n",
            "median of array: 3.0\n",
            "sd of array: 33.49565917657793\n"
          ]
        }
      ]
    },
    {
      "cell_type": "code",
      "source": [
        "#percentile of array\n",
        "a=np.array([12,45,123])\n",
        "print(np.percentile(a,75))"
      ],
      "metadata": {
        "id": "i5RjDdugIyvF",
        "colab": {
          "base_uri": "https://localhost:8080/"
        },
        "outputId": "17891406-2bc4-45da-9555-ff5fa863f58d"
      },
      "execution_count": 28,
      "outputs": [
        {
          "output_type": "stream",
          "name": "stdout",
          "text": [
            "84.0\n"
          ]
        }
      ]
    },
    {
      "cell_type": "code",
      "source": [
        "#to find the distance b/w array\n",
        "a=np.array([1,2,3,44])\n",
        "b=np.array([2,6,77,65])\n",
        "print(np.linalg.norm(a-b ))"
      ],
      "metadata": {
        "id": "zsEdaeMDKpJG",
        "colab": {
          "base_uri": "https://localhost:8080/"
        },
        "outputId": "d6b8a38b-d0fc-4f08-f0f0-beba9a7e975a"
      },
      "execution_count": 29,
      "outputs": [
        {
          "output_type": "stream",
          "name": "stdout",
          "text": [
            "77.03246069028303\n"
          ]
        }
      ]
    },
    {
      "cell_type": "code",
      "source": [
        "a=np.array([1,2,3,4],dtype=bool)\n",
        "print(a)\n"
      ],
      "metadata": {
        "id": "uijmnLBPUOtH",
        "colab": {
          "base_uri": "https://localhost:8080/"
        },
        "outputId": "455b52cc-86cf-4610-8c30-15fb957bb83a"
      },
      "execution_count": 37,
      "outputs": [
        {
          "output_type": "stream",
          "name": "stdout",
          "text": [
            "[ True  True  True  True]\n"
          ]
        }
      ]
    },
    {
      "cell_type": "code",
      "source": [
        "#place -1 in place of odd numbers\n",
        "a=np.array([1,2,3,4])\n",
        "a[a%2==1]=-1\n",
        "print(a)\n"
      ],
      "metadata": {
        "id": "iaODsoWHwsrE",
        "colab": {
          "base_uri": "https://localhost:8080/"
        },
        "outputId": "31d4fd3e-5852-4a41-a308-de2c72fbbcb3"
      },
      "execution_count": 32,
      "outputs": [
        {
          "output_type": "stream",
          "name": "stdout",
          "text": [
            "[-1  2 -1  4]\n"
          ]
        }
      ]
    },
    {
      "cell_type": "code",
      "source": [
        "#place 1 in place of even numbers\n",
        "a=np.array([1,2,3,4])\n",
        "a[a%2==0]=1\n",
        "print(a)"
      ],
      "metadata": {
        "id": "Hh96o3O7xmQr",
        "colab": {
          "base_uri": "https://localhost:8080/"
        },
        "outputId": "e6d0a20a-5fe1-419d-d325-286e1c3b0627"
      },
      "execution_count": 33,
      "outputs": [
        {
          "output_type": "stream",
          "name": "stdout",
          "text": [
            "[1 1 3 1]\n"
          ]
        }
      ]
    },
    {
      "cell_type": "code",
      "source": [
        "#prime numbers\n",
        "a=np.array([1,2,3,4,5,6,7])\n",
        "for()\n"
      ],
      "metadata": {
        "id": "N99CZYd3yPOL",
        "colab": {
          "base_uri": "https://localhost:8080/",
          "height": 106
        },
        "outputId": "1f63560e-12c4-49b2-c72a-b30d856fb840"
      },
      "execution_count": 34,
      "outputs": [
        {
          "output_type": "error",
          "ename": "SyntaxError",
          "evalue": "invalid syntax (<ipython-input-34-dd5de4b14cbe>, line 3)",
          "traceback": [
            "\u001b[0;36m  File \u001b[0;32m\"<ipython-input-34-dd5de4b14cbe>\"\u001b[0;36m, line \u001b[0;32m3\u001b[0m\n\u001b[0;31m    for()\u001b[0m\n\u001b[0m         ^\u001b[0m\n\u001b[0;31mSyntaxError\u001b[0m\u001b[0;31m:\u001b[0m invalid syntax\n"
          ]
        }
      ]
    },
    {
      "cell_type": "code",
      "source": [
        "#converting 1d to 3d\n",
        "a=np.array([1,2,3,4,5,6,7,8,9])\n",
        "a2d=a.reshape(-1,3,1)\n",
        "print(a2d)\n"
      ],
      "metadata": {
        "id": "EaeNUxW_zcq1"
      },
      "execution_count": null,
      "outputs": []
    },
    {
      "cell_type": "code",
      "source": [
        "#indexing in 1d array\n",
        "a=np.array([1,2,3,4,5])\n",
        "a[1:4]"
      ],
      "metadata": {
        "id": "LSAN25j312gM"
      },
      "execution_count": null,
      "outputs": []
    },
    {
      "cell_type": "code",
      "source": [
        "#correlation b/w two arrays\n",
        "a=np.array([[1,2,3],[4,5,6],[7,8,9]])\n",
        "c1=a[:,0]\n",
        "c2=a[:,1]\n",
        "correlation=np.corrcoef(c1,c2)\n",
        "print(\"correlation coefficient between columno and column1:\")\n",
        "print(correlation [0,1])"
      ],
      "metadata": {
        "id": "1ylDVNl1EH6O"
      },
      "execution_count": null,
      "outputs": []
    },
    {
      "cell_type": "code",
      "source": [
        "#probabilistic sampling\n",
        "pop=np.array(['A','B','C','D','e'])\n",
        "prob=np.array([0.1,0.2,0.3,0.2,0.2])\n",
        "samp_with_rep = np.random.choice(pop,size=4,p=prob,replace=True)\n",
        "print(\"sample with replacement:\",samp_with_rep)\n",
        "samp_without_rep=np.random.choice(pop,size=3,p=prob,replace=False)\n",
        "print(\"sample without replacement:\",samp_without_rep)\n",
        "\n"
      ],
      "metadata": {
        "id": "UfdQm9i-JkWX",
        "colab": {
          "base_uri": "https://localhost:8080/"
        },
        "outputId": "e5abd728-8442-4762-ad87-730e922fe229"
      },
      "execution_count": 39,
      "outputs": [
        {
          "output_type": "stream",
          "name": "stdout",
          "text": [
            "sample with replacement: ['C' 'A' 'C' 'D']\n",
            "sample without replacement: ['B' 'D' 'A']\n"
          ]
        }
      ]
    },
    {
      "cell_type": "code",
      "source": [
        "\n",
        "def moving_average(arr, window_size):\n",
        "    kernel = np.ones(window_size) / window_size\n",
        "    moving_avg = np.convolve(arr, kernel, mode='valid')\n",
        "    return moving_avg\n",
        "\n",
        "arr = np.array([1, 2, 3, 4, 5, 6, 7, 8, 9, 10])\n",
        "window_size = 3\n",
        "result = moving_average(arr, window_size)\n",
        "print(\"Moving average:\", result)\n",
        "\n",
        "\n"
      ],
      "metadata": {
        "id": "Ci9lWDrTOpGw",
        "colab": {
          "base_uri": "https://localhost:8080/"
        },
        "outputId": "3838a096-a3b9-4b0b-e9f8-3eb1e374c982"
      },
      "execution_count": 40,
      "outputs": [
        {
          "output_type": "stream",
          "name": "stdout",
          "text": [
            "Moving average: [2. 3. 4. 5. 6. 7. 8. 9.]\n"
          ]
        }
      ]
    },
    {
      "cell_type": "code",
      "source": [
        "#find the position of missing values\n",
        "arr=np.array([1,2,np.nan,4,np.nan,6,7,np.nan])\n",
        "missing_value_positions=np.where(np.isnan(arr))[0]\n",
        "print(\"positions of missing values:\",missing_value_positions)\n"
      ],
      "metadata": {
        "id": "oiEP-hv8IrOO"
      },
      "execution_count": null,
      "outputs": []
    },
    {
      "cell_type": "code",
      "source": [
        "#drop rows that contain the missing value\n",
        "sample_data=np.array([1,2,7,8,np.nan,9,5,np.nan,1,0])\n",
        "print(\"this is a sample data with nan valuesin it:\",sample_data)\n",
        "remove_nan=sample_data[np.logical_not(np.isnan(sample_data))]\n",
        "print(remove_nan)"
      ],
      "metadata": {
        "id": "aNPmNaB2gmJw",
        "colab": {
          "base_uri": "https://localhost:8080/"
        },
        "outputId": "13612186-04f0-46a7-d824-6f9d6fe71924"
      },
      "execution_count": 41,
      "outputs": [
        {
          "output_type": "stream",
          "name": "stdout",
          "text": [
            "this is a sample data with nan valuesin it: [ 1.  2.  7.  8. nan  9.  5. nan  1.  0.]\n",
            "[1. 2. 7. 8. 9. 5. 1. 0.]\n"
          ]
        }
      ]
    },
    {
      "cell_type": "code",
      "source": [
        "#missing values with 0\n",
        "import numpy as np\n",
        "\n",
        "#create array of data\n",
        "my_array = np.array([4, np.nan, 6, np.nan, 10, 11, 14, 19, 22])\n",
        "\n",
        "#replace nan values with zero in array\n",
        "my_array[np.isnan(my_array)] = 0\n",
        "\n",
        "#view updated array\n",
        "print(my_array)"
      ],
      "metadata": {
        "id": "yZjRa_z6lVrn",
        "colab": {
          "base_uri": "https://localhost:8080/"
        },
        "outputId": "83518920-912e-4aee-893e-463657f42913"
      },
      "execution_count": 42,
      "outputs": [
        {
          "output_type": "stream",
          "name": "stdout",
          "text": [
            "[ 4.  0.  6.  0. 10. 11. 14. 19. 22.]\n"
          ]
        }
      ]
    },
    {
      "cell_type": "code",
      "source": [
        "x=np.array([1,2,np.nan,3,np.nan,])\n",
        "y=np.array([[1,2,3],[4,np.nan,5],[np.nan,7,8]])\n",
        "print(\"original array:\",x )\n",
        "result = x[np.logical_not(np.isnan(x))]\n",
        "print(\"after removing:\",result)\n",
        "result_y=y[np.logical_not(np.isnan(y))]\n",
        "print(\"orginal array:\",y)\n",
        "print(\"after removing nun :\",result_y)"
      ],
      "metadata": {
        "id": "xc8rQlL0oWv_",
        "colab": {
          "base_uri": "https://localhost:8080/"
        },
        "outputId": "07a385c1-37eb-4037-ba86-5fe1637dc94a"
      },
      "execution_count": 43,
      "outputs": [
        {
          "output_type": "stream",
          "name": "stdout",
          "text": [
            "original array: [ 1.  2. nan  3. nan]\n",
            "after removing: [1. 2. 3.]\n",
            "orginal array: [[ 1.  2.  3.]\n",
            " [ 4. nan  5.]\n",
            " [nan  7.  8.]]\n",
            "after removing nun : [1. 2. 3. 4. 5. 7. 8.]\n"
          ]
        }
      ]
    },
    {
      "cell_type": "code",
      "source": [
        "#min by max\n",
        "arr = np.array([[1,2,33],[4,5,6],[7,8,9]])\n",
        "print(arr)\n",
        "min=np.min(arr,axis=1)\n",
        "max=np.max(arr,axis=1)\n",
        "minbymax=min/max\n",
        "print(minbymax)"
      ],
      "metadata": {
        "id": "Cwa5q7p4h33a",
        "colab": {
          "base_uri": "https://localhost:8080/"
        },
        "outputId": "40716118-f5c8-4c6b-a6e9-d6bb1ba9417c"
      },
      "execution_count": 44,
      "outputs": [
        {
          "output_type": "stream",
          "name": "stdout",
          "text": [
            "[[ 1  2 33]\n",
            " [ 4  5  6]\n",
            " [ 7  8  9]]\n",
            "[0.03030303 0.66666667 0.77777778]\n"
          ]
        }
      ]
    },
    {
      "cell_type": "code",
      "source": [
        "#normalization\n",
        "x=np.random.random((3,3))\n",
        "print(\"orginal array:\",x)\n",
        "xmax, xmin = x.max(), x.min()\n",
        "y = (x - xmin) / (xmax - xmin)\n",
        "print(\"normalizatio:\",y)"
      ],
      "metadata": {
        "id": "Cn2NHaYYtKDJ",
        "colab": {
          "base_uri": "https://localhost:8080/"
        },
        "outputId": "c58d2708-5a1b-4e47-b1f2-593d13887718"
      },
      "execution_count": 45,
      "outputs": [
        {
          "output_type": "stream",
          "name": "stdout",
          "text": [
            "orginal array: [[0.66866529 0.30373701 0.86445698]\n",
            " [0.57274968 0.88743738 0.4009989 ]\n",
            " [0.64671859 0.22445205 0.84299919]]\n",
            "normalizatio: [[0.67001971 0.11958781 0.965338  ]\n",
            " [0.52534742 1.         0.26629073]\n",
            " [0.63691688 0.         0.93297259]]\n"
          ]
        }
      ]
    }
  ]
}